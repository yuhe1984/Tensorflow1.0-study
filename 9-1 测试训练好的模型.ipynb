{
 "cells": [
  {
   "cell_type": "code",
   "execution_count": 3,
   "metadata": {},
   "outputs": [],
   "source": [
    "import tensorflow as tf\n",
    "import os\n",
    "import numpy as np\n",
    "import re\n",
    "from PIL import Image\n",
    "import matplotlib.pyplot as plt"
   ]
  },
  {
   "cell_type": "code",
   "execution_count": null,
   "metadata": {},
   "outputs": [],
   "source": [
    "lines = tf.gfile.GFile('retrain/output_labels.txt').readlines()\n",
    "uid_to_human = {}\n",
    "#一行一行读取数据\n",
    "for uid.line in enumerate(lines):\n",
    "    #去掉换行符\n",
    "    line = line.strip('\\n')\n",
    "    uid_to_human[uid] = line\n",
    "    \n",
    "def id_to_string(node_id):\n",
    "    if node_id not in node_to_human:\n",
    "        return ''\n",
    "    return uid_to_human[node_id]\n",
    "\n",
    "#创建一个图来存放google训练好的模型\n",
    "with tf.gfile.FastGFile('retrain/output_graph.pb','rb') as f:\n",
    "    graph_def = tf.GraphDef()\n",
    "    graph_def.ParseFromString(f.read())\n",
    "    tf.import_graph_def(graph_def, name='')\n",
    "    \n",
    "with tf.Session() as sess:\n",
    "    softmax.tensor = sess.graph.get_tensor_by_name('final_result:0')\n",
    "    #遍历目录\n",
    "    for root,dirs,files in os.walk('retrain/images/'):\n",
    "        for file in files:\n",
    "            #载入图片\n",
    "            image_data = tf.gfile.FastGFile(os.path.join(root,file), 'rb').read()\n",
    "            predictions = sess.run(softmax_tensor,{'DecodeJpeg/contents:0': image_data})#图片格式是jpg格式\n",
    "            predictions = np.squeeze(predictions)#把结果转为1维数据\n",
    "            \n",
    "            #打印图片路劲及名称\n",
    "            image_path = os.path.join(root,file)\n",
    "            print(image_path)\n",
    "            #显示图片\n",
    "            img = Image.open(image_path)\n",
    "            plt.imshow(img)\n",
    "            plt.axis('off')\n",
    "            plt.show()\n",
    "            \n",
    "            #排序\n",
    "            top_k = predictions.argsort()[-5:][::-1]\n",
    "            node_lookup = NodeLookup()\n",
    "            for node_id in top_k:\n",
    "                #获取分类名称\n",
    "                human_string = node_lookup.id_to_string(node_id)\n",
    "                #获取该分类的置信度\n",
    "                score = predictions[node_id]\n",
    "                print('%s (score = %.5f)' % (human_string, score))\n",
    "            print()"
   ]
  },
  {
   "cell_type": "code",
   "execution_count": null,
   "metadata": {
    "collapsed": true
   },
   "outputs": [],
   "source": [
    "\n"
   ]
  }
 ],
 "metadata": {
  "kernelspec": {
   "display_name": "Python 3",
   "language": "python",
   "name": "python3"
  },
  "language_info": {
   "codemirror_mode": {
    "name": "ipython",
    "version": 3
   },
   "file_extension": ".py",
   "mimetype": "text/x-python",
   "name": "python",
   "nbconvert_exporter": "python",
   "pygments_lexer": "ipython3",
   "version": "3.6.3"
  }
 },
 "nbformat": 4,
 "nbformat_minor": 2
}
