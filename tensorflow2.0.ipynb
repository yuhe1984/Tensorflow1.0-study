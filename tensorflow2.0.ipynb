{
 "cells": [
  {
   "cell_type": "code",
   "execution_count": 1,
   "metadata": {
    "collapsed": true
   },
   "outputs": [],
   "source": [
    "import tensorflow as tf\n",
    "import numpy as np"
   ]
  },
  {
   "cell_type": "code",
   "execution_count": 2,
   "metadata": {},
   "outputs": [
    {
     "name": "stdout",
     "output_type": "stream",
     "text": [
      "Tensor(\"MatMul:0\", shape=(1, 1), dtype=int32)\n"
     ]
    }
   ],
   "source": [
    "#2-1创建图、启动图\n",
    "#创建一个常量op\n",
    "m1 = tf.constant([[3,3]])\n",
    "m2 = tf.constant([[2],[3]])\n",
    "#创建一个乘法，把m1和m2传入\n",
    "product = tf.matmul(m1,m2)\n",
    "print(product)"
   ]
  },
  {
   "cell_type": "code",
   "execution_count": 3,
   "metadata": {},
   "outputs": [
    {
     "name": "stdout",
     "output_type": "stream",
     "text": [
      "[[15]]\n"
     ]
    }
   ],
   "source": [
    "#定义一个会话，启动默认图\n",
    "sess = tf.Session()\n",
    "#调用sess的run方法来执行矩阵乘法op\n",
    "#run(product)触发图中3个op\n",
    "result = sess.run(product)\n",
    "print(result)\n",
    "sess.close()"
   ]
  },
  {
   "cell_type": "code",
   "execution_count": 6,
   "metadata": {},
   "outputs": [
    {
     "name": "stdout",
     "output_type": "stream",
     "text": [
      "[[15]]\n"
     ]
    }
   ],
   "source": [
    "with tf.Session() as sess:\n",
    "    #调用sess的run方法来执行矩阵乘法op\n",
    "    #run(product)触发图中3个op\n",
    "    result = sess.run(product)\n",
    "    print(result)"
   ]
  },
  {
   "cell_type": "code",
   "execution_count": 10,
   "metadata": {},
   "outputs": [
    {
     "name": "stdout",
     "output_type": "stream",
     "text": [
      "[-2 -1]\n",
      "[-1  1]\n"
     ]
    }
   ],
   "source": [
    "#2-2\n",
    "x = tf.Variable([1,2])\n",
    "a = tf.constant([3,3])\n",
    "#增加一个乘法op\n",
    "sub = tf.subtract(x,a)\n",
    "add = tf.add(x,sub)\n",
    "\n",
    "init = tf.global_variables_initializer()\n",
    "with tf.Session() as sess:\n",
    "    sess.run(init)\n",
    "    print(sess.run(sub))\n",
    "    print(sess.run(add))"
   ]
  },
  {
   "cell_type": "code",
   "execution_count": 13,
   "metadata": {},
   "outputs": [
    {
     "name": "stdout",
     "output_type": "stream",
     "text": [
      "0\n",
      "1\n",
      "2\n",
      "3\n",
      "4\n",
      "5\n"
     ]
    }
   ],
   "source": [
    "#创建一个变量初始化为0\n",
    "state = tf.Variable(0,name='counter')\n",
    "new_value = tf.add(state,1)\n",
    "#赋值op\n",
    "update = tf.assign(state,new_value)\n",
    "init = tf.global_variables_initializer()\n",
    "\n",
    "with tf.Session() as sess:\n",
    "    sess.run(init)\n",
    "    print(sess.run(state))\n",
    "    for _ in range(5):\n",
    "        sess.run(update)\n",
    "        print(sess.run(state))"
   ]
  },
  {
   "cell_type": "code",
   "execution_count": 14,
   "metadata": {},
   "outputs": [
    {
     "name": "stdout",
     "output_type": "stream",
     "text": [
      "[21.0, 7.0]\n"
     ]
    }
   ],
   "source": [
    "#Fetch\n",
    "input1 = tf.constant(3.0)\n",
    "input2 = tf.constant(2.0)\n",
    "input3 = tf.constant(5.0)\n",
    "\n",
    "add = tf.add(input2,input3)\n",
    "mul = tf.multiply(input1,add)\n",
    "\n",
    "with tf.Session() as sess:\n",
    "    result = sess.run([mul,add])\n",
    "    print(result)"
   ]
  },
  {
   "cell_type": "code",
   "execution_count": 19,
   "metadata": {},
   "outputs": [
    {
     "name": "stdout",
     "output_type": "stream",
     "text": [
      "[14.]\n"
     ]
    }
   ],
   "source": [
    "#Feed\n",
    "#创建占位符\n",
    "input1 = tf.placeholder(tf.float32)\n",
    "input2 = tf.placeholder(tf.float32)\n",
    "output = tf.multiply(input1,input2)\n",
    "\n",
    "with tf.Session() as sess:\n",
    "    #Feed的数据以字典的形式传入\n",
    "    print(sess.run(output,feed_dict={input1:[7.],input2:[2.]}))"
   ]
  },
  {
   "cell_type": "code",
   "execution_count": 16,
   "metadata": {},
   "outputs": [
    {
     "name": "stdout",
     "output_type": "stream",
     "text": [
      "0 [0.057306435, 0.10120934]\n",
      "20 [0.105831616, 0.1966754]\n",
      "40 [0.10330696, 0.19811474]\n",
      "60 [0.101875275, 0.19893092]\n",
      "80 [0.101063415, 0.19939376]\n",
      "100 [0.100603014, 0.19965623]\n",
      "120 [0.10034195, 0.19980505]\n",
      "140 [0.100193895, 0.19988947]\n",
      "160 [0.10010995, 0.19993731]\n",
      "180 [0.10006234, 0.19996446]\n",
      "200 [0.10003536, 0.19997984]\n"
     ]
    }
   ],
   "source": [
    "#使用numpy生成100个随机点\n",
    "x_data = np.random.rand(100)\n",
    "y_data = x_data*0.1 + 0.2\n",
    "\n",
    "#构造一个线性模型\n",
    "b = tf.Variable(0.)\n",
    "k = tf.Variable(0.)\n",
    "y = k*x_data + b\n",
    "\n",
    "#二次代价函数\n",
    "loss = tf.reduce_mean(tf.square(y_data-y))\n",
    "#定义一个梯度下降法来进行训练的优化器\n",
    "optimizer = tf.train.GradientDescentOptimizer(0.2)\n",
    "#最小化代价函数\n",
    "train = optimizer.minimize(loss)\n",
    "\n",
    "init = tf.global_variables_initializer()\n",
    "\n",
    "with tf.Session() as sess:\n",
    "    sess.run(init)\n",
    "    for step in range(201):\n",
    "        sess.run(train)\n",
    "        if step%20 ==0:\n",
    "            print(step,sess.run([k,b]))"
   ]
  },
  {
   "cell_type": "code",
   "execution_count": 17,
   "metadata": {},
   "outputs": [
    {
     "name": "stdout",
     "output_type": "stream",
     "text": [
      "[0.16578228 0.34784973 0.05026015 0.78861931 0.2497924  0.97920384\n",
      " 0.10502662 0.82095089 0.4727517  0.70360456 0.97857397 0.64211255\n",
      " 0.34443923 0.8508401  0.36170763 0.93012153 0.91405397 0.89584589\n",
      " 0.40444433 0.01319271 0.30421478 0.71426808 0.69939927 0.82475823\n",
      " 0.1456219  0.15147449 0.53411983 0.54615472 0.31310592 0.62075189\n",
      " 0.73732326 0.99417401 0.28956848 0.42371443 0.3451331  0.10766321\n",
      " 0.35247901 0.84939542 0.41298916 0.93707829 0.54386262 0.82261012\n",
      " 0.03856028 0.02335141 0.39114815 0.6305257  0.86260958 0.69093239\n",
      " 0.53511219 0.89159911 0.85117362 0.67724825 0.29635239 0.27812092\n",
      " 0.8501388  0.55356237 0.24129096 0.25083883 0.49398609 0.20231665\n",
      " 0.02428089 0.25306872 0.93267561 0.97315301 0.9770891  0.49075728\n",
      " 0.97149568 0.00809566 0.11498204 0.8476171  0.67525787 0.51320188\n",
      " 0.37537166 0.60796393 0.81652719 0.88673092 0.13162542 0.36676109\n",
      " 0.94072302 0.10000619 0.36508629 0.70851813 0.80009344 0.25152851\n",
      " 0.62720876 0.96213625 0.54790852 0.58968486 0.90134942 0.64344255\n",
      " 0.01736302 0.01791867 0.12363583 0.75131357 0.39890568 0.60007984\n",
      " 0.52704889 0.13019664 0.80164082 0.80301382]\n"
     ]
    }
   ],
   "source": [
    "print(x_data)"
   ]
  },
  {
   "cell_type": "code",
   "execution_count": 18,
   "metadata": {
    "collapsed": true
   },
   "outputs": [],
   "source": [
    "import matplotlib.pyplot as plt"
   ]
  },
  {
   "cell_type": "code",
   "execution_count": 19,
   "metadata": {},
   "outputs": [
    {
     "data": {
      "text/plain": [
       "[<matplotlib.lines.Line2D at 0x21409ed3ef0>]"
      ]
     },
     "execution_count": 19,
     "metadata": {},
     "output_type": "execute_result"
    }
   ],
   "source": [
    "plt.plot(x_data,y_data)"
   ]
  },
  {
   "cell_type": "code",
   "execution_count": 21,
   "metadata": {},
   "outputs": [
    {
     "data": {
      "image/png": "[encoded data removed]",
      "text/plain": [
       "<matplotlib.figure.Figure at 0x21407de65f8>"
      ]
     },
     "metadata": {},
     "output_type": "display_data"
    }
   ],
   "source": [
    "plt.show()"
   ]
  },
  {
   "cell_type": "code",
   "execution_count": null,
   "metadata": {
    "collapsed": true
   },
   "outputs": [],
   "source": []
  }
 ],
 "metadata": {
  "kernelspec": {
   "display_name": "Python 3",
   "language": "python",
   "name": "python3"
  },
  "language_info": {
   "codemirror_mode": {
    "name": "ipython",
    "version": 3
   },
   "file_extension": ".py",
   "mimetype": "text/x-python",
   "name": "python",
   "nbconvert_exporter": "python",
   "pygments_lexer": "ipython3",
   "version": "3.6.3"
  }
 },
 "nbformat": 4,
 "nbformat_minor": 2
}
