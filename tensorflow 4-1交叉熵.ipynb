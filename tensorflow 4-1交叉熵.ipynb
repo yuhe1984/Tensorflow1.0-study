{
 "cells": [
  {
   "cell_type": "code",
   "execution_count": 1,
   "metadata": {
    "collapsed": true
   },
   "outputs": [],
   "source": [
    "import tensorflow as tf\n",
    "#二次代价函数\n",
    "#梯度下降法\n",
    "#交叉熵代价函数\n",
    "#深度学习中将softmax最后一层，此时常用的代价函数是对数释然代价函数\n",
    "#sigmoid函数常与交叉熵代价函数搭配\n",
    "from tensorflow.examples.tutorials.mnist import input_data"
   ]
  },
  {
   "cell_type": "code",
   "execution_count": 3,
   "metadata": {},
   "outputs": [
    {
     "name": "stdout",
     "output_type": "stream",
     "text": [
      "Extracting MNIST_data\\train-images-idx3-ubyte.gz\n",
      "Extracting MNIST_data\\train-labels-idx1-ubyte.gz\n",
      "Extracting MNIST_data\\t10k-images-idx3-ubyte.gz\n",
      "Extracting MNIST_data\\t10k-labels-idx1-ubyte.gz\n",
      "Iter0,Testing Accuracy:0.9286\n",
      "Iter1,Testing Accuracy:0.9299\n",
      "Iter2,Testing Accuracy:0.9301\n",
      "Iter3,Testing Accuracy:0.9299\n",
      "Iter4,Testing Accuracy:0.9303\n",
      "Iter5,Testing Accuracy:0.9297\n",
      "Iter6,Testing Accuracy:0.9294\n",
      "Iter7,Testing Accuracy:0.9297\n",
      "Iter8,Testing Accuracy:0.93\n",
      "Iter9,Testing Accuracy:0.9298\n",
      "Iter10,Testing Accuracy:0.9299\n",
      "Iter11,Testing Accuracy:0.9295\n",
      "Iter12,Testing Accuracy:0.9297\n",
      "Iter13,Testing Accuracy:0.9298\n",
      "Iter14,Testing Accuracy:0.9296\n",
      "Iter15,Testing Accuracy:0.9296\n",
      "Iter16,Testing Accuracy:0.9293\n",
      "Iter17,Testing Accuracy:0.9289\n",
      "Iter18,Testing Accuracy:0.9288\n",
      "Iter19,Testing Accuracy:0.9287\n",
      "Iter20,Testing Accuracy:0.929\n"
     ]
    }
   ],
   "source": [
    "#载入数据集\n",
    "mnist = input_data.read_data_sets(\"MNIST_data\",one_hot=True)\n",
    "\n",
    "#每个批次的大小\n",
    "batch_size = 100 # \n",
    "#计算一共有多少个批次\n",
    "n_batch = mnist.train.num_examples # batch_size\n",
    "\n",
    "#定义两个placeholder\n",
    "x = tf.placeholder(tf.float32,[None,784])\n",
    "y = tf.placeholder(tf.float32,[None,10])\n",
    "\n",
    "#创建一个简单的神经网络\n",
    "W = tf.Variable(tf.zeros([784,10]))\n",
    "b = tf.Variable(tf.zeros([10]))\n",
    "prediction = tf.nn.softmax(tf.matmul(x,W)+b)\n",
    "\n",
    "#二次代价函数\n",
    "# loss = tf.reduce_mean(tf.square(y-prediction))\n",
    "#交叉熵代价函数\n",
    "loss = tf.reduce_mean(tf.nn.softmax_cross_entropy_with_logits(labels=y,logits=prediction))\n",
    "#使用梯度下降法\n",
    "train_step = tf.train.GradientDescentOptimizer(0.2).minimize(loss)\n",
    "\n",
    "#初始化设置\n",
    "init = tf.global_variables_initializer()\n",
    "\n",
    "#结果存放在一个布尔型列表中\n",
    "correct_prediction = tf.equal(tf.argmax(y,1),tf.argmax(prediction,1))#argmac返回一维张量中最大的值所在的位置\n",
    "#求准确率\n",
    "accuracy = tf.reduce_mean(tf.cast(correct_prediction,tf.float32))\n",
    "\n",
    "with tf.Session() as sess:\n",
    "    sess.run(init)\n",
    "    for epoch in range(21):\n",
    "        for batch in range(n_batch):\n",
    "            batch_xs,batch_ys = mnist.train.next_batch(batch_size)\n",
    "            sess.run(train_step,feed_dict={x:batch_xs,y:batch_ys})\n",
    "        \n",
    "        acc = sess.run(accuracy,feed_dict={x:mnist.test.images,y:mnist.test.labels})\n",
    "        print(\"Iter\"  + str(epoch) + \",Testing Accuracy:\" + str(acc))"
   ]
  },
  {
   "cell_type": "code",
   "execution_count": null,
   "metadata": {
    "collapsed": true
   },
   "outputs": [],
   "source": []
  }
 ],
 "metadata": {
  "kernelspec": {
   "display_name": "Python 3",
   "language": "python",
   "name": "python3"
  },
  "language_info": {
   "codemirror_mode": {
    "name": "ipython",
    "version": 3
   },
   "file_extension": ".py",
   "mimetype": "text/x-python",
   "name": "python",
   "nbconvert_exporter": "python",
   "pygments_lexer": "ipython3",
   "version": "3.6.3"
  }
 },
 "nbformat": 4,
 "nbformat_minor": 2
}
